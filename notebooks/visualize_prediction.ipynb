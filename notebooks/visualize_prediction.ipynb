{
 "cells": [
  {
   "cell_type": "code",
   "execution_count": 1,
   "id": "hollywood-auckland",
   "metadata": {},
   "outputs": [
    {
     "name": "stdout",
     "output_type": "stream",
     "text": [
      "Running on cpu\n"
     ]
    }
   ],
   "source": [
    "import sys\n",
    "sys.path.append('..')\n",
    "import glob\n",
    "\n",
    "import matplotlib.pyplot as plt\n",
    "import matplotlib as mpl\n",
    "import matplotlib.animation as animation\n",
    "import numpy as np\n",
    "import torch\n",
    "from torchvision import transforms\n",
    "from scipy.ndimage import binary_erosion\n",
    "from skimage.color import label2rgb\n",
    "from skimage import io\n",
    "\n",
    "from mri_segmentation.model import UNet\n",
    "from mri_segmentation.utils import dice_coefficient\n",
    "\n",
    "mpl.rcParams.update(mpl.rcParamsDefault)"
   ]
  },
  {
   "cell_type": "code",
   "execution_count": 2,
   "id": "comparative-radius",
   "metadata": {},
   "outputs": [],
   "source": [
    "validation_folders = [\n",
    "    '../data/TCGA_DU_8168_19970503/',\n",
    "    '../data/TCGA_DU_8167_19970402/',\n",
    "    '../data/TCGA_DU_A5TP_19970614/',\n",
    "    '../data/TCGA_HT_7856_19950831/',\n",
    "    '../data/TCGA_FG_5962_20000626/',\n",
    "]"
   ]
  },
  {
   "cell_type": "code",
   "execution_count": 3,
   "id": "particular-embassy",
   "metadata": {},
   "outputs": [
    {
     "name": "stdout",
     "output_type": "stream",
     "text": [
      "51\n"
     ]
    }
   ],
   "source": [
    "validation_num = 4\n",
    "\n",
    "files = glob.glob(validation_folders[validation_num] + '*.tif')\n",
    "\n",
    "images_names = [name for name in files if not 'mask' in name]\n",
    "sorted_image_names = sorted(images_names, key=lambda x: (x.split('_')[2], int(x.split('_')[-1].split('.')[0])))\n",
    "\n",
    "\n",
    "masks_names = [name for name in files if 'mask' in name]\n",
    "sorted_masks_names = sorted(masks_names, key=lambda x: (x.split('_')[2], int(x.split('_')[-2])))\n",
    "\n",
    "images = [np.array(io.imread(image)) for image in sorted_image_names]\n",
    "masks = [np.array(io.imread(mask)) for mask in sorted_masks_names]\n",
    "\n",
    "print(len(images))"
   ]
  },
  {
   "cell_type": "code",
   "execution_count": 4,
   "id": "subject-indonesia",
   "metadata": {},
   "outputs": [],
   "source": [
    "model = UNet()\n",
    "model.load_state_dict(torch.load('../mri_segmentation/weights/model_UNet_num_epochs_85_seed_1234.pt', map_location=torch.device('cpu')))\n",
    "\n",
    "inputs = torch.zeros((len(images), 3, 256, 256))\n",
    "targets = torch.zeros((len(images), 256, 256))\n",
    "\n",
    "for i, (image, mask) in enumerate(zip(images, masks)):\n",
    "    tensor_image = transforms.ToTensor()(image)\n",
    "    tensor_mask = transforms.ToTensor()(mask)\n",
    "    tensor_mask = tensor_mask.long()\n",
    "    inputs[i] = tensor_image\n",
    "    targets[i] = tensor_mask"
   ]
  },
  {
   "cell_type": "code",
   "execution_count": 5,
   "id": "anonymous-processing",
   "metadata": {},
   "outputs": [],
   "source": [
    "# Predict the segmentation\n",
    "outputs = model(inputs)\n",
    "dc = dice_coefficient(outputs, targets)\n",
    "outputs = np.round(outputs.detach().squeeze(1).numpy())  # Round numbers for the binay mask"
   ]
  },
  {
   "cell_type": "code",
   "execution_count": 6,
   "id": "understood-verse",
   "metadata": {},
   "outputs": [],
   "source": [
    "def get_image_with_masks(n):\n",
    "    image = images[n]\n",
    "    mask = masks[n] - masks[n] * binary_erosion(masks[n])\n",
    "    pred_mask = outputs[n] - outputs[n] * binary_erosion(outputs[n])\n",
    "    mask[pred_mask == 1] = 2\n",
    "    return label2rgb(label=mask, image=image, bg_label=0, kind='overlay', colors=[(2, 0, 0), (0, 2, 0)])  # If colors at 1, low intensity"
   ]
  },
  {
   "cell_type": "code",
   "execution_count": 7,
   "id": "respected-snapshot",
   "metadata": {},
   "outputs": [
    {
     "name": "stderr",
     "output_type": "stream",
     "text": [
      "Clipping input data to the valid range for imshow with RGB data ([0..1] for floats or [0..255] for integers).\n",
      "Clipping input data to the valid range for imshow with RGB data ([0..1] for floats or [0..255] for integers).\n",
      "Clipping input data to the valid range for imshow with RGB data ([0..1] for floats or [0..255] for integers).\n"
     ]
    }
   ],
   "source": [
    "# Animation\n",
    "interval = 5000 / len(images) # Make animations same duration (5s)\n",
    "animation_file = f'../images/prediction_{validation_folders[validation_num].split(\"/\")[2]}.gif'\n",
    "\n",
    "fig = plt.figure(frameon=False)\n",
    "mri = get_image_with_masks(0)\n",
    "h = plt.imshow(mri)\n",
    "plt.axis('off')\n",
    "plt.title(f'DC = {dc:.4f}', fontsize=15)\n",
    "fig.set_size_inches(4, 4, forward=True)\n",
    "\n",
    "def update(i):\n",
    "    mri = get_image_with_masks(i)\n",
    "    h.set_data(mri)\n",
    "    return h\n",
    "\n",
    "anim = animation.FuncAnimation(fig, update, frames=range(len(images)), interval=interval)\n",
    "anim.save(animation_file)"
   ]
  }
 ],
 "metadata": {
  "kernelspec": {
   "display_name": "Python 3",
   "language": "python",
   "name": "python3"
  },
  "language_info": {
   "codemirror_mode": {
    "name": "ipython",
    "version": 3
   },
   "file_extension": ".py",
   "mimetype": "text/x-python",
   "name": "python",
   "nbconvert_exporter": "python",
   "pygments_lexer": "ipython3",
   "version": "3.6.12"
  }
 },
 "nbformat": 4,
 "nbformat_minor": 5
}
